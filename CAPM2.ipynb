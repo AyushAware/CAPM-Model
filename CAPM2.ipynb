{
 "cells": [
  {
   "cell_type": "code",
   "execution_count": 1,
   "id": "29798d97",
   "metadata": {},
   "outputs": [],
   "source": [
    "import pandas as pd\n",
    "import numpy as np\n",
    "from sklearn.linear_model import LinearRegression\n",
    "import pandas_datareader as pdr\n",
    "import datetime as dt\n",
    "import matplotlib.pyplot as plt\n",
    "%matplotlib inline"
   ]
  },
  {
   "cell_type": "code",
   "execution_count": 2,
   "id": "75d2c31c",
   "metadata": {},
   "outputs": [],
   "source": [
    "stocks = ['AAPL', '^GSPC']\n",
    "start = dt.datetime(2015, 12, 1)\n",
    "end = dt.datetime(2022, 1, 1)\n",
    "\n",
    "data = pdr.get_data_yahoo(stocks, start, end)\n",
    "data = data['Adj Close']"
   ]
  },
  {
   "cell_type": "code",
   "execution_count": 3,
   "id": "f5b0633e",
   "metadata": {},
   "outputs": [
    {
     "data": {
      "text/html": [
       "<div>\n",
       "<style scoped>\n",
       "    .dataframe tbody tr th:only-of-type {\n",
       "        vertical-align: middle;\n",
       "    }\n",
       "\n",
       "    .dataframe tbody tr th {\n",
       "        vertical-align: top;\n",
       "    }\n",
       "\n",
       "    .dataframe thead th {\n",
       "        text-align: right;\n",
       "    }\n",
       "</style>\n",
       "<table border=\"1\" class=\"dataframe\">\n",
       "  <thead>\n",
       "    <tr style=\"text-align: right;\">\n",
       "      <th>Symbols</th>\n",
       "      <th>AAPL</th>\n",
       "      <th>^GSPC</th>\n",
       "    </tr>\n",
       "    <tr>\n",
       "      <th>Date</th>\n",
       "      <th></th>\n",
       "      <th></th>\n",
       "    </tr>\n",
       "  </thead>\n",
       "  <tbody>\n",
       "    <tr>\n",
       "      <th>2015-11-30</th>\n",
       "      <td>27.197859</td>\n",
       "      <td>2080.409912</td>\n",
       "    </tr>\n",
       "    <tr>\n",
       "      <th>2015-12-01</th>\n",
       "      <td>26.977148</td>\n",
       "      <td>2102.629883</td>\n",
       "    </tr>\n",
       "    <tr>\n",
       "      <th>2015-12-02</th>\n",
       "      <td>26.733446</td>\n",
       "      <td>2079.510010</td>\n",
       "    </tr>\n",
       "    <tr>\n",
       "      <th>2015-12-03</th>\n",
       "      <td>26.485149</td>\n",
       "      <td>2049.620117</td>\n",
       "    </tr>\n",
       "    <tr>\n",
       "      <th>2015-12-04</th>\n",
       "      <td>27.365686</td>\n",
       "      <td>2091.689941</td>\n",
       "    </tr>\n",
       "  </tbody>\n",
       "</table>\n",
       "</div>"
      ],
      "text/plain": [
       "Symbols          AAPL        ^GSPC\n",
       "Date                              \n",
       "2015-11-30  27.197859  2080.409912\n",
       "2015-12-01  26.977148  2102.629883\n",
       "2015-12-02  26.733446  2079.510010\n",
       "2015-12-03  26.485149  2049.620117\n",
       "2015-12-04  27.365686  2091.689941"
      ]
     },
     "execution_count": 3,
     "metadata": {},
     "output_type": "execute_result"
    }
   ],
   "source": [
    "data.head()"
   ]
  },
  {
   "cell_type": "code",
   "execution_count": 5,
   "id": "e19aa789",
   "metadata": {
    "scrolled": true
   },
   "outputs": [
    {
     "data": {
      "text/html": [
       "<div>\n",
       "<style scoped>\n",
       "    .dataframe tbody tr th:only-of-type {\n",
       "        vertical-align: middle;\n",
       "    }\n",
       "\n",
       "    .dataframe tbody tr th {\n",
       "        vertical-align: top;\n",
       "    }\n",
       "\n",
       "    .dataframe thead th {\n",
       "        text-align: right;\n",
       "    }\n",
       "</style>\n",
       "<table border=\"1\" class=\"dataframe\">\n",
       "  <thead>\n",
       "    <tr style=\"text-align: right;\">\n",
       "      <th>Symbols</th>\n",
       "      <th>AAPL</th>\n",
       "      <th>^GSPC</th>\n",
       "    </tr>\n",
       "    <tr>\n",
       "      <th>Date</th>\n",
       "      <th></th>\n",
       "      <th></th>\n",
       "    </tr>\n",
       "  </thead>\n",
       "  <tbody>\n",
       "    <tr>\n",
       "      <th>2015-11-30</th>\n",
       "      <td>NaN</td>\n",
       "      <td>NaN</td>\n",
       "    </tr>\n",
       "    <tr>\n",
       "      <th>2015-12-01</th>\n",
       "      <td>-0.008148</td>\n",
       "      <td>0.010624</td>\n",
       "    </tr>\n",
       "    <tr>\n",
       "      <th>2015-12-02</th>\n",
       "      <td>-0.009075</td>\n",
       "      <td>-0.011057</td>\n",
       "    </tr>\n",
       "    <tr>\n",
       "      <th>2015-12-03</th>\n",
       "      <td>-0.009331</td>\n",
       "      <td>-0.014478</td>\n",
       "    </tr>\n",
       "    <tr>\n",
       "      <th>2015-12-04</th>\n",
       "      <td>0.032706</td>\n",
       "      <td>0.020318</td>\n",
       "    </tr>\n",
       "  </tbody>\n",
       "</table>\n",
       "</div>"
      ],
      "text/plain": [
       "Symbols         AAPL     ^GSPC\n",
       "Date                          \n",
       "2015-11-30       NaN       NaN\n",
       "2015-12-01 -0.008148  0.010624\n",
       "2015-12-02 -0.009075 -0.011057\n",
       "2015-12-03 -0.009331 -0.014478\n",
       "2015-12-04  0.032706  0.020318"
      ]
     },
     "execution_count": 5,
     "metadata": {},
     "output_type": "execute_result"
    }
   ],
   "source": [
    "log_return = np.log(data/data.shift())\n",
    "log_return.head()"
   ]
  },
  {
   "cell_type": "markdown",
   "id": "a98c6856",
   "metadata": {},
   "source": [
    "# We will need beta to calculate returns"
   ]
  },
  {
   "cell_type": "code",
   "execution_count": 6,
   "id": "d0763003",
   "metadata": {
    "scrolled": true
   },
   "outputs": [
    {
     "data": {
      "text/plain": [
       "[<matplotlib.lines.Line2D at 0x1d9cd2e00d0>]"
      ]
     },
     "execution_count": 6,
     "metadata": {},
     "output_type": "execute_result"
    },
    {
     "data": {
      "image/png": "[encoded data removed]",
      "text/plain": [
       "<Figure size 432x288 with 1 Axes>"
      ]
     },
     "metadata": {
      "needs_background": "light"
     },
     "output_type": "display_data"
    }
   ],
   "source": [
    "stock_1 = 'AAPL'\n",
    "stock_2 = '^GSPC'\n",
    "X = log_return[stock_1].iloc[1:].to_numpy().reshape(-1, 1)\n",
    "Y = log_return[stock_2].iloc[1:].to_numpy().reshape(-1, 1)\n",
    "\n",
    "lin_reg = LinearRegression()\n",
    "lin_reg.fit(X, Y)\n",
    "\n",
    "beta = lin_reg.coef_[0, 0]\n",
    "Y_predict = lin_reg.predict(X)\n",
    "\n",
    "fig, ax = plt.subplots()\n",
    "ax.scatter(X, Y)\n",
    "ax.plot(X, Y_predict, c = 'y')"
   ]
  },
  {
   "cell_type": "code",
   "execution_count": 7,
   "id": "b1ed4c7e",
   "metadata": {},
   "outputs": [
    {
     "data": {
      "text/plain": [
       "0.46751976825107405"
      ]
     },
     "execution_count": 7,
     "metadata": {},
     "output_type": "execute_result"
    }
   ],
   "source": [
    "beta"
   ]
  },
  {
   "cell_type": "code",
   "execution_count": 8,
   "id": "dde86201",
   "metadata": {},
   "outputs": [],
   "source": [
    "# Risk free return = 0.056\n",
    "risk_free_return = 0.052\n",
    "#Market return = 0.103\n",
    "market_return = 0.103\n",
    "\n",
    "#As per the CAPM formula\n",
    "\n",
    "expected_return = risk_free_return + beta*(market_return - risk_free_return)"
   ]
  },
  {
   "cell_type": "code",
   "execution_count": 9,
   "id": "a4c94790",
   "metadata": {},
   "outputs": [
    {
     "data": {
      "text/plain": [
       "0.07584350818080478"
      ]
     },
     "execution_count": 9,
     "metadata": {},
     "output_type": "execute_result"
    }
   ],
   "source": [
    "expected_return"
   ]
  }
 ],
 "metadata": {
  "kernelspec": {
   "display_name": "Python 3",
   "language": "python",
   "name": "python3"
  },
  "language_info": {
   "codemirror_mode": {
    "name": "ipython",
    "version": 3
   },
   "file_extension": ".py",
   "mimetype": "text/x-python",
   "name": "python",
   "nbconvert_exporter": "python",
   "pygments_lexer": "ipython3",
   "version": "3.8.8"
  }
 },
 "nbformat": 4,
 "nbformat_minor": 5
}
